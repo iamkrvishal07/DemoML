{
 "cells": [
  {
   "cell_type": "code",
   "execution_count": 1,
   "id": "c9fe62d9-622c-4219-b805-7cdf338c3bf6",
   "metadata": {},
   "outputs": [
    {
     "data": {
      "text/plain": [
       "2                                  The Godfather\n",
       "4                         The Godfather: Part II\n",
       "23                                    GoodFellas\n",
       "26                   Once Upon a Time in America\n",
       "36                                   City of God\n",
       "128                              The Hate U Give\n",
       "148                                  Taxi Driver\n",
       "209    Three Billboards Outside Ebbing, Missouri\n",
       "233                       Rocco and His Brothers\n",
       "264                        To Kill a Mockingbird\n",
       "Name: title, dtype: object"
      ]
     },
     "execution_count": 1,
     "metadata": {},
     "output_type": "execute_result"
    }
   ],
   "source": [
    "import pandas as pd\n",
    "from sklearn.feature_extraction.text import TfidfVectorizer\n",
    "from sklearn.metrics.pairwise import linear_kernel\n",
    "\n",
    "# Load the dataset\n",
    "file_path = 'dataset.csv'\n",
    "data = pd.read_csv(file_path)\n",
    "\n",
    "# Function to get recommendations based on cosine similarity\n",
    "def get_recommendations(title, cosine_sim):\n",
    "    idx = data.index[data['title'] == title].tolist()[0]\n",
    "    sim_scores = list(enumerate(cosine_sim[idx]))\n",
    "    sim_scores = sorted(sim_scores, key=lambda x: x[1], reverse=True)\n",
    "    sim_scores = sim_scores[1:11]\n",
    "    movie_indices = [i[0] for i in sim_scores]\n",
    "    return data['title'].iloc[movie_indices]\n",
    "\n",
    "# Process genres for the TF-IDF vectorizer\n",
    "data['genre'] = data['genre'].fillna('')\n",
    "tfidf = TfidfVectorizer(stop_words='english')\n",
    "tfidf_matrix = tfidf.fit_transform(data['genre'])\n",
    "cosine_sim = linear_kernel(tfidf_matrix, tfidf_matrix)\n",
    "\n",
    "# Test the recommendation function\n",
    "recommended_movies = get_recommendations('The Godfather', cosine_sim)\n",
    "recommended_movies\n"
   ]
  },
  {
   "cell_type": "code",
   "execution_count": null,
   "id": "0d119c77-a55b-4012-80f3-8ca80cf45bc6",
   "metadata": {},
   "outputs": [],
   "source": []
  }
 ],
 "metadata": {
  "kernelspec": {
   "display_name": "Python 3 (ipykernel)",
   "language": "python",
   "name": "python3"
  },
  "language_info": {
   "codemirror_mode": {
    "name": "ipython",
    "version": 3
   },
   "file_extension": ".py",
   "mimetype": "text/x-python",
   "name": "python",
   "nbconvert_exporter": "python",
   "pygments_lexer": "ipython3",
   "version": "3.12.4"
  },
  "widgets": {
   "application/vnd.jupyter.widget-state+json": {
    "state": {},
    "version_major": 2,
    "version_minor": 0
   }
  }
 },
 "nbformat": 4,
 "nbformat_minor": 5
}
